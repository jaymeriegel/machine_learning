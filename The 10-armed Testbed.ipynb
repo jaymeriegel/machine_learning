{
 "cells": [
  {
   "cell_type": "code",
   "execution_count": 2,
   "metadata": {},
   "outputs": [],
   "source": [
    "import numpy as np\n",
    "from numpy.random import normal as GaussianDistribution\n",
    "\n",
    "class K_armed_testbed():\n",
    "    \n",
    "    def __init__(self, k_actions):\n",
    "        self.k_actions = k_actions\n",
    "        self.action_values = np.full(self.k_actions, fill_value=0)\n",
    "        \n",
    "    def random_walk_action_values(self):\n",
    "        increment = GaussianDistribution(loc=0, scale=0.01, size=self.k)\n",
    "        self.action_values += increment\n",
    "\n",
    "    def sample_action(self, action_i):\n",
    "        return GaussianDistribution(loc=self.action_values[action_i], scale=1, size=1)[0]\n",
    "        \n",
    "    \n",
    "        \n",
    "        "
   ]
  },
  {
   "cell_type": "code",
   "execution_count": 14,
   "metadata": {},
   "outputs": [],
   "source": [
    "teste = GaussianDistribution(loc=0, scale=0.1, size=10)"
   ]
  },
  {
   "cell_type": "code",
   "execution_count": 15,
   "metadata": {},
   "outputs": [
    {
     "data": {
      "text/plain": [
       "array([ 0.03711403,  0.00961057,  0.08149118, -0.13660583, -0.01437386,\n",
       "        0.03707145, -0.13961401, -0.10234934,  0.06807946, -0.0350059 ])"
      ]
     },
     "execution_count": 15,
     "metadata": {},
     "output_type": "execute_result"
    }
   ],
   "source": [
    "teste"
   ]
  },
  {
   "cell_type": "code",
   "execution_count": 7,
   "metadata": {},
   "outputs": [
    {
     "data": {
      "text/plain": [
       "0.13869067948882444"
      ]
     },
     "execution_count": 7,
     "metadata": {},
     "output_type": "execute_result"
    }
   ],
   "source": [
    "max(teste)"
   ]
  },
  {
   "cell_type": "code",
   "execution_count": null,
   "metadata": {},
   "outputs": [],
   "source": []
  }
 ],
 "metadata": {
  "kernelspec": {
   "display_name": "Python 3",
   "language": "python",
   "name": "python3"
  },
  "language_info": {
   "codemirror_mode": {
    "name": "ipython",
    "version": 3
   },
   "file_extension": ".py",
   "mimetype": "text/x-python",
   "name": "python",
   "nbconvert_exporter": "python",
   "pygments_lexer": "ipython3",
   "version": "3.8.5"
  }
 },
 "nbformat": 4,
 "nbformat_minor": 4
}
