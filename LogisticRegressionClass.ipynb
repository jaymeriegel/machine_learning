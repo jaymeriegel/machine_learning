{
 "cells": [
  {
   "cell_type": "code",
   "execution_count": 66,
   "metadata": {},
   "outputs": [],
   "source": [
    "import numpy as np\n",
    "\n",
    "class LogisticRegression:\n",
    "    \n",
    "    def sigmoid(self, z):\n",
    "        return 1.0 / (1 + np.exp(-z))\n",
    "    \n",
    "    def predict(self, features, weights):\n",
    "        z = np.dot(features, weights)\n",
    "        return self.sigmoid(z)\n",
    "    \n",
    "    def cost_function_jayme(self, features, weigths, labels):\n",
    "        \n",
    "        cost = 0\n",
    "        cont = 0\n",
    "        for y in labels:\n",
    "            \n",
    "            if y == 1:\n",
    "                cost += -(np.log(self.predict(features, weigths)))\n",
    "            else:\n",
    "                cost += -(np.log(1 - self.predict(features, weigths)))\n",
    "                \n",
    "            cont += 1\n",
    "            \n",
    "        return cost/cont\n",
    "    \n",
    "    def cost_function(self, features, weights, labels):\n",
    "    \n",
    "        observations = len(labels)\n",
    "\n",
    "        predictions = self.predict(features, weights)\n",
    "\n",
    "        #Take the error when label=1\n",
    "        class1_cost = -np.log(predictions)\n",
    "\n",
    "        #Take the error when label=0\n",
    "        class2_cost = -np.log(1-predictions)\n",
    "\n",
    "        #Take the sum of both costs\n",
    "        cost = class1_cost - class2_cost\n",
    "\n",
    "        #Take the average cost\n",
    "        cost = cost.sum() / observations\n",
    "\n",
    "        return cost\n",
    "                \n",
    "    \n",
    "    def updating_weights(self, features, weights, labels, lr):\n",
    "    \n",
    "        N = len(features)\n",
    "        \n",
    "        predictions = predict(features, weights)\n",
    "        \n",
    "        gradient = np.dot(fatures.T, predictions - labels)\n",
    "        \n",
    "        gradient /= N\n",
    "        \n",
    "        gradient *= lr\n",
    "        \n",
    "        weights -= gradient\n",
    "        \n",
    "        return weights\n",
    "    \n",
    "    def decision_boundary(self, prob):\n",
    "        return 1 if prob >= .5 else 0\n",
    "    \n",
    "    def classify(self, predictions):\n",
    " \n",
    "        decision_boundary = np.vectorize(decision_boundary)\n",
    "        return decision_boundary(predictions).flatten()\n",
    "    \n",
    "    \n",
    "        \n",
    "    \n",
    "    \n",
    "    \n",
    "    \n",
    "    "
   ]
  },
  {
   "cell_type": "code",
   "execution_count": 67,
   "metadata": {},
   "outputs": [
    {
     "data": {
      "text/plain": [
       "-51.42865508616836"
      ]
     },
     "execution_count": 67,
     "metadata": {},
     "output_type": "execute_result"
    }
   ],
   "source": [
    "from sklearn.datasets import make_blobs\n",
    "\n",
    "X, y = make_blobs(centers=2)\n",
    "\n",
    "z = np.dot(X[0], X[1])\n",
    "\n",
    "z\n",
    "\n"
   ]
  },
  {
   "cell_type": "code",
   "execution_count": 68,
   "metadata": {},
   "outputs": [],
   "source": [
    "test = LogisticRegression()\n",
    "\n",
    "\n",
    "\n",
    "teste1 = test.cost_function(X[0],X[1],y)\n",
    "\n",
    "teste2 = test.cost_function_jayme(X[0],X[1],y)\n",
    "\n",
    "\n",
    "\n",
    "\n",
    "\n"
   ]
  },
  {
   "cell_type": "code",
   "execution_count": 69,
   "metadata": {},
   "outputs": [
    {
     "data": {
      "text/plain": [
       "0.5142865508616836"
      ]
     },
     "execution_count": 69,
     "metadata": {},
     "output_type": "execute_result"
    }
   ],
   "source": [
    "teste1"
   ]
  },
  {
   "cell_type": "code",
   "execution_count": 70,
   "metadata": {},
   "outputs": [
    {
     "data": {
      "text/plain": [
       "25.7143275430842"
      ]
     },
     "execution_count": 70,
     "metadata": {},
     "output_type": "execute_result"
    }
   ],
   "source": [
    "teste2"
   ]
  },
  {
   "cell_type": "code",
   "execution_count": null,
   "metadata": {},
   "outputs": [],
   "source": []
  }
 ],
 "metadata": {
  "kernelspec": {
   "display_name": "Python 3",
   "language": "python",
   "name": "python3"
  },
  "language_info": {
   "codemirror_mode": {
    "name": "ipython",
    "version": 3
   },
   "file_extension": ".py",
   "mimetype": "text/x-python",
   "name": "python",
   "nbconvert_exporter": "python",
   "pygments_lexer": "ipython3",
   "version": "3.8.5"
  }
 },
 "nbformat": 4,
 "nbformat_minor": 4
}
