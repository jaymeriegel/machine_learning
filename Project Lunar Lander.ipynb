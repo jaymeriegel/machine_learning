{
 "cells": [
  {
   "cell_type": "code",
   "execution_count": 2,
   "metadata": {},
   "outputs": [
    {
     "ename": "ModuleNotFoundError",
     "evalue": "No module named 'environment'",
     "output_type": "error",
     "traceback": [
      "\u001b[1;31m---------------------------------------------------------------------------\u001b[0m",
      "\u001b[1;31mModuleNotFoundError\u001b[0m                       Traceback (most recent call last)",
      "\u001b[1;32m<ipython-input-2-7cff617483fb>\u001b[0m in \u001b[0;36m<module>\u001b[1;34m\u001b[0m\n\u001b[1;32m----> 1\u001b[1;33m \u001b[1;32mimport\u001b[0m \u001b[0menvironment\u001b[0m\u001b[1;33m\u001b[0m\u001b[1;33m\u001b[0m\u001b[0m\n\u001b[0m\u001b[0;32m      2\u001b[0m \u001b[1;32mfrom\u001b[0m \u001b[0mutils\u001b[0m \u001b[1;32mimport\u001b[0m \u001b[0mget_landing_zone\u001b[0m\u001b[1;33m,\u001b[0m \u001b[0mget_angle\u001b[0m\u001b[1;33m,\u001b[0m \u001b[0mget_velocity\u001b[0m\u001b[1;33m,\u001b[0m \u001b[0mget_position\u001b[0m\u001b[1;33m,\u001b[0m \u001b[0mget_fuel\u001b[0m\u001b[1;33m,\u001b[0m \u001b[0mtests\u001b[0m\u001b[1;33m\u001b[0m\u001b[1;33m\u001b[0m\u001b[0m\n\u001b[0;32m      3\u001b[0m \u001b[0mget_landing_zone\u001b[0m\u001b[1;33m(\u001b[0m\u001b[1;33m)\u001b[0m\u001b[1;33m\u001b[0m\u001b[1;33m\u001b[0m\u001b[0m\n\u001b[0;32m      4\u001b[0m \u001b[1;31m# Lunar Lander Environment\u001b[0m\u001b[1;33m\u001b[0m\u001b[1;33m\u001b[0m\u001b[1;33m\u001b[0m\u001b[0m\n\u001b[0;32m      5\u001b[0m \u001b[1;32mclass\u001b[0m \u001b[0mLunarLanderEnvironment\u001b[0m\u001b[1;33m(\u001b[0m\u001b[0menvironment\u001b[0m\u001b[1;33m.\u001b[0m\u001b[0mBaseEnvironment\u001b[0m\u001b[1;33m)\u001b[0m\u001b[1;33m:\u001b[0m\u001b[1;33m\u001b[0m\u001b[1;33m\u001b[0m\u001b[0m\n",
      "\u001b[1;31mModuleNotFoundError\u001b[0m: No module named 'environment'"
     ]
    }
   ],
   "source": [
    "import environment\n",
    "from utils import get_landing_zone, get_angle, get_velocity, get_position, get_fuel, tests\n",
    "get_landing_zone()\n",
    "# Lunar Lander Environment\n",
    "class LunarLanderEnvironment(environment.BaseEnvironment):\n",
    "    def __init__(self):\n",
    "        self.current_state = None\n",
    "        self.count = 0\n",
    "    \n",
    "    def env_init(self, env_info):\n",
    "        # users set this up\n",
    "        self.state = np.zeros(6) # velocity x, y, angle, distance to ground, landing zone x, y\n",
    "    \n",
    "    def env_start(self):\n",
    "        land_x, land_y = get_landing_zone() # gets the x, y coordinate of the landing zone\n",
    "        # At the start we initialize the agent to the top left hand corner (100, 20) with 0 velocity \n",
    "        # in either any direction. The agent's angle is set to 0 and the landing zone is retrieved and set.\n",
    "        # The lander starts with fuel of 100.\n",
    "        # (vel_x, vel_y, angle, pos_x, pos_y, land_x, land_y, fuel)\n",
    "        self.current_state = (0, 0, 0, 100, 20, land_x, land_y, 100)\n",
    "        return self.current_state\n",
    "    \n",
    "    def env_step(self, action):\n",
    "        \n",
    "        land_x, land_y = get_landing_zone() # gets the x, y coordinate of the landing zone\n",
    "        vel_x, vel_y = get_velocity(action) # gets the x, y velocity of the lander\n",
    "        angle = get_angle(action) # gets the angle the lander is positioned in\n",
    "        pos_x, pos_y = get_position(action) # gets the x, y position of the lander\n",
    "        fuel = get_fuel(action) # get the amount of fuel remaining for the lander\n",
    "        \n",
    "        terminal = False\n",
    "        reward = 0.0\n",
    "        observation = (vel_x, vel_y, angle, pos_x, pos_y, land_x, land_y, fuel)\n",
    "        \n",
    "        # use the above observations to decide what the reward will be, and if the\n",
    "        # agent is in a terminal state.\n",
    "        # Recall - if the agent crashes or lands terminal needs to be set to True\n",
    "        \n",
    "        # YOUR CODE HERE\n",
    "        raise NotImplementedError()\n",
    "        \n",
    "        self.reward_obs_term = (reward, observation, terminal)\n",
    "        return self.reward_obs_term\n",
    "    \n",
    "    def env_cleanup(self):\n",
    "        return None\n",
    "    \n",
    "    def env_message(self):\n",
    "        return None"
   ]
  },
  {
   "cell_type": "code",
   "execution_count": null,
   "metadata": {},
   "outputs": [],
   "source": []
  }
 ],
 "metadata": {
  "kernelspec": {
   "display_name": "Python 3",
   "language": "python",
   "name": "python3"
  },
  "language_info": {
   "codemirror_mode": {
    "name": "ipython",
    "version": 3
   },
   "file_extension": ".py",
   "mimetype": "text/x-python",
   "name": "python",
   "nbconvert_exporter": "python",
   "pygments_lexer": "ipython3",
   "version": "3.8.5"
  }
 },
 "nbformat": 4,
 "nbformat_minor": 4
}
