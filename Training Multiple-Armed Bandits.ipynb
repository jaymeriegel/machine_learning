{
 "cells": [
  {
   "cell_type": "code",
   "execution_count": 3,
   "metadata": {},
   "outputs": [],
   "source": [
    "import numpy as np\n",
    "\n",
    "class Estimator(object):\n",
    "    \n",
    "    def __init__(self, action_values_initial_estimate):\n",
    "        self.action_value_estimates = action_values_initial_estimate\n",
    "        self.k_actions = len(action_values_initial_estimate)\n",
    "        self.action_selected_count = np.full(self.k_actions, fill_value=0, dtype='int64')\n",
    "    \n",
    "    def select_action(self):\n",
    "        raise NotImplementedError(\"You need implemented first!\")\n",
    "        \n",
    "    def update_estimates(self):\n",
    "        raise NotImplementedError(\"You need implemented first!\")\n",
    "        \n",
    "    def select_greedy_action(self):\n",
    "        return np.argmax(self.action_values_estimates)\n",
    "    \n",
    "    def select_random_action(self):\n",
    "        return np.random.choice(self.action_value_estimates)\n",
    "    \n",
    "class SampleAverageEstimator(Estimator):\n",
    "    \n",
    "    def __init__(self, action_values_initial_estimate, epsilon):\n",
    "        super(SampleAverageEstimator, self).__init__(action_value_initial_estimate)\n",
    "        self.epsilon = epsilon\n",
    "        \n",
    "    def update_estimates(self, action_select, r):\n",
    "        self.action_selected_count[action_select] =+ 1\n",
    "        \n",
    "        qn = self.action_value_estimate[action_select]\n",
    "        n = self.action_selected_count[action_select]\n",
    "        self.action_value_estimate[action_select] == (qn + r) / n\n",
    "        \n",
    "    def select_action(self):\n",
    "        probabilistic = np.random.rand()\n",
    "        \n",
    "        if probabilistic <= self.epsilon:\n",
    "            return self.select_greedy_action()\n",
    "        \n",
    "        return self.select_random_action()\n",
    "    \n",
    "    \n",
    "        "
   ]
  }
 ],
 "metadata": {
  "kernelspec": {
   "display_name": "Python 3",
   "language": "python",
   "name": "python3"
  },
  "language_info": {
   "codemirror_mode": {
    "name": "ipython",
    "version": 3
   },
   "file_extension": ".py",
   "mimetype": "text/x-python",
   "name": "python",
   "nbconvert_exporter": "python",
   "pygments_lexer": "ipython3",
   "version": "3.8.5"
  }
 },
 "nbformat": 4,
 "nbformat_minor": 4
}
